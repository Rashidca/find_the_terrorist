{
 "cells": [
  {
   "cell_type": "code",
   "execution_count": 1,
   "metadata": {},
   "outputs": [
    {
     "name": "stdout",
     "output_type": "stream",
     "text": [
      "pygame 2.5.2 (SDL 2.28.3, Python 3.11.4)\n",
      "Hello from the pygame community. https://www.pygame.org/contribute.html\n"
     ]
    }
   ],
   "source": [
    "# installed pygame in terminal\n",
    "import mediapipe as mp\n",
    "import cv2 \n",
    "import random\n",
    "import time\n",
    "import pygame"
   ]
  },
  {
   "cell_type": "code",
   "execution_count": 2,
   "metadata": {},
   "outputs": [],
   "source": [
    "mphands=mp.solutions.hands\n",
    "mp_drawing=mp.solutions.drawing_utils"
   ]
  },
  {
   "cell_type": "code",
   "execution_count": 3,
   "metadata": {},
   "outputs": [],
   "source": [
    "hand=mphands.Hands(max_num_hands=1)"
   ]
  },
  {
   "cell_type": "code",
   "execution_count": 4,
   "metadata": {},
   "outputs": [],
   "source": [
    "def c(start_time):\n",
    "    time_right_now=time.time()\n",
    "    time_running=int(time_right_now-start_time)\n",
    "    return time_running"
   ]
  },
  {
   "cell_type": "code",
   "execution_count": 5,
   "metadata": {},
   "outputs": [],
   "source": [
    "pygame.init()\n",
    "pygame.mixer.music.load('D:\\DL projects\\media pipe projects\\Knife_stab_sound_BrF9beCReJk_140.mp3')"
   ]
  },
  {
   "cell_type": "code",
   "execution_count": 6,
   "metadata": {},
   "outputs": [],
   "source": [
    "def target(path):\n",
    "    small_image=cv2.imread(path)\n",
    "    small_image=cv2.resize(small_image,(50,50))\n",
    "    width=small_image.shape[0]\n",
    "    height=small_image.shape[1]\n",
    "    return small_image,width,height\n",
    "    "
   ]
  },
  {
   "cell_type": "code",
   "execution_count": 7,
   "metadata": {},
   "outputs": [
    {
     "name": "stdout",
     "output_type": "stream",
     "text": [
      "[[[0 0 0]\n",
      "  [0 0 0]\n",
      "  [0 0 0]\n",
      "  ...\n",
      "  [0 0 0]\n",
      "  [0 0 0]\n",
      "  [0 0 0]]\n",
      "\n",
      " [[0 0 0]\n",
      "  [0 0 0]\n",
      "  [0 0 0]\n",
      "  ...\n",
      "  [0 0 0]\n",
      "  [0 0 0]\n",
      "  [0 0 0]]\n",
      "\n",
      " [[0 0 0]\n",
      "  [0 0 0]\n",
      "  [0 0 0]\n",
      "  ...\n",
      "  [0 0 0]\n",
      "  [0 0 0]\n",
      "  [0 0 0]]\n",
      "\n",
      " ...\n",
      "\n",
      " [[0 0 0]\n",
      "  [0 0 0]\n",
      "  [0 0 0]\n",
      "  ...\n",
      "  [0 0 0]\n",
      "  [0 0 0]\n",
      "  [0 0 0]]\n",
      "\n",
      " [[0 0 0]\n",
      "  [0 0 0]\n",
      "  [0 0 0]\n",
      "  ...\n",
      "  [0 0 0]\n",
      "  [0 0 0]\n",
      "  [0 0 0]]\n",
      "\n",
      " [[0 0 0]\n",
      "  [0 0 0]\n",
      "  [0 0 0]\n",
      "  ...\n",
      "  [0 0 0]\n",
      "  [0 0 0]\n",
      "  [0 0 0]]]\n",
      "50\n"
     ]
    }
   ],
   "source": [
    "instruction=cv2.imread(r\"D:\\DL projects\\media pipe projects\\instruction.jpg\")\n",
    "s_mall,h,w=target(\"D:\\DL projects\\media pipe projects\\Picsart_24-01-12_10-43-50-413.png\")\n",
    "print(s_mall)\n",
    "print(w)"
   ]
  },
  {
   "cell_type": "code",
   "execution_count": 11,
   "metadata": {},
   "outputs": [],
   "source": [
    "x_sys = random.randint(0, 640-h)\n",
    "y_sys = random.randint(0, 480-w)\n",
    "score=0\n",
    "video=cv2.VideoCapture(r\"D:\\DL projects\\media pipe projects\\gun assemble.mp4\")\n",
    "while True:\n",
    "    rect,frame=video.read()\n",
    "    if not rect:\n",
    "        break\n",
    "    cv2.putText(frame,\"SPOT THE TERRORIST\",(250,100),cv2.FONT_ITALIC,thickness=3,fontScale=2,color=(0,0,250))\n",
    "    cv2.putText(frame,\"press f key to continue\",(100,400),cv2.FONT_HERSHEY_COMPLEX,thickness=2,fontScale=1,color=(250,250,250))\n",
    "    cv2.imshow(\"video\",frame)\n",
    "    key = cv2.waitKey(1) & 0xFF\n",
    "    if key == ord('f'):\n",
    "        break\n",
    "video.release()\n",
    "cv2.destroyAllWindows()\n",
    "cv2.imshow(\"Game\",instruction)\n",
    "cv2.waitKey()\n",
    "cv2.destroyAllWindows()\n",
    "video=cv2.VideoCapture(0)\n",
    "start_time=time.time()\n",
    "while True:\n",
    "    success,image=video.read()\n",
    "    image=cv2.cvtColor(image,cv2.COLOR_BGR2RGB)\n",
    "    image=cv2.flip(image,1)\n",
    "    result=hand.process(image)\n",
    "    image=cv2.cvtColor(image,cv2.COLOR_BGR2RGB)\n",
    "    # system(image,x_sys,y_sys)\n",
    "    #print(result.multi_hand_landmarks)\n",
    "    roi = image[y_sys:y_sys + w, x_sys:x_sys+h]\n",
    "    k=cv2.addWeighted(roi, 0.3, s_mall, 0.7, 0)\n",
    "\n",
    "    if result.multi_hand_landmarks:\n",
    "        a=result.multi_hand_landmarks\n",
    "        for hand_landmarks in a:\n",
    "                        lmlist=[]\n",
    "                        for id,lm in enumerate(hand_landmarks.landmark):\n",
    "                            cx = int(lm.x * image.shape[1])  # Convert normalized coordinates to pixel coordinates\n",
    "                            cy = int(lm.y * image.shape[0])  # Convert normalized coordinates to pixel coordinates\n",
    "                            lmlist.append([id, cx, cy])\n",
    "                        if len(lmlist) > 8:\n",
    "                            x, y = lmlist[8][1], lmlist[8][2]\n",
    "\n",
    "                # Draw a filled circle at the landmark position\n",
    "                            cv2.circle(image, (x, y), 10, (0, 0, 255), -1) \n",
    "                            if x in range(x_sys,x_sys+h) and y in range(y_sys,y_sys + w):\n",
    "                                  pygame.mixer.music.play()\n",
    "                                  score=score+1\n",
    "                                  x_sys = random.randint(0, 640-h)\n",
    "                                  y_sys = random.randint(0, 480-w)\n",
    "                                  \n",
    "    t=c(start_time)\n",
    "\n",
    "    d=60-t\n",
    "    cv2.putText(image,str(d),(500,100),cv2.FONT_HERSHEY_COMPLEX,thickness=2,fontScale=0.5,color=(0,0,0))\n",
    "    cv2.putText(image,\"timer:\",(350,100),cv2.FONT_HERSHEY_COMPLEX,thickness=2,fontScale=1,color=(0,0,0))\n",
    "\n",
    "    cv2.putText(image,str(score),(500,50),cv2.FONT_HERSHEY_COMPLEX,thickness=2,fontScale=0.5,color=(0,0,0))\n",
    "    cv2.putText(image,\"score:\",(350,50),cv2.FONT_HERSHEY_COMPLEX,thickness=2,fontScale=1,color=(0,0,0)) \n",
    "    image[y_sys:y_sys + w, x_sys:x_sys+h]=k\n",
    "    cv2.imshow(\"Game\",image)\n",
    "    if t==60 or cv2.waitKey(1) & 0XFF==ord(\"f\"):\n",
    "        break\n",
    "video.release()\n",
    "cv2.destroyAllWindows()\n",
    "finisher=cv2.imread(\"D:\\DL projects\\media pipe projects\\deep learning project spot\\A_black_image.jpg.webp\")\n",
    "cv2.putText(finisher,str(score),(450,240),cv2.FONT_HERSHEY_COMPLEX,thickness=2,fontScale=1,color=(250,250,250))\n",
    "cv2.putText(finisher,\"score:\",(320,240),cv2.FONT_HERSHEY_COMPLEX,thickness=2,fontScale=1,color=(250,250,250))\n",
    "cv2.imshow(\"Game\",finisher)\n",
    "cv2.waitKey()\n",
    "cv2.destroyAllWindows()"
   ]
  },
  {
   "cell_type": "markdown",
   "metadata": {},
   "source": []
  }
 ],
 "metadata": {
  "kernelspec": {
   "display_name": "Python 3",
   "language": "python",
   "name": "python3"
  },
  "language_info": {
   "codemirror_mode": {
    "name": "ipython",
    "version": 3
   },
   "file_extension": ".py",
   "mimetype": "text/x-python",
   "name": "python",
   "nbconvert_exporter": "python",
   "pygments_lexer": "ipython3",
   "version": "3.11.4"
  }
 },
 "nbformat": 4,
 "nbformat_minor": 2
}
